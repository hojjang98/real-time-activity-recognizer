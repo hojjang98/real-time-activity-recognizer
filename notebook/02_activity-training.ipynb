{
 "cells": [
  {
   "cell_type": "code",
   "execution_count": 1,
   "id": "eff35305",
   "metadata": {},
   "outputs": [
    {
     "name": "stderr",
     "output_type": "stream",
     "text": [
      "Splitting: 100%|█████████████████████████████████████████████████████████████████████████| 8/8 [00:08<00:00,  1.10s/it]\n"
     ]
    }
   ],
   "source": [
    "import os\n",
    "import shutil\n",
    "import random\n",
    "from tqdm import tqdm\n",
    "\n",
    "def split_dataset(base_dir, train_dir, val_dir, split_ratio=0.8):\n",
    "    os.makedirs(train_dir, exist_ok=True)\n",
    "    os.makedirs(val_dir, exist_ok=True)\n",
    "\n",
    "    classes = [d for d in os.listdir(base_dir) if os.path.isdir(os.path.join(base_dir, d))\n",
    "               and d not in ['train', 'val']]\n",
    "\n",
    "    for cls in tqdm(classes, desc=\"Splitting\"):\n",
    "        cls_path = os.path.join(base_dir, cls)\n",
    "        images = os.listdir(cls_path)\n",
    "        random.shuffle(images)\n",
    "\n",
    "        split_idx = int(len(images) * split_ratio)\n",
    "        train_imgs = images[:split_idx]\n",
    "        val_imgs = images[split_idx:]\n",
    "\n",
    "        os.makedirs(os.path.join(train_dir, cls), exist_ok=True)\n",
    "        os.makedirs(os.path.join(val_dir, cls), exist_ok=True)\n",
    "\n",
    "        for img in train_imgs:\n",
    "            shutil.copy(os.path.join(cls_path, img), os.path.join(train_dir, cls, img))\n",
    "        for img in val_imgs:\n",
    "            shutil.copy(os.path.join(cls_path, img), os.path.join(val_dir, cls, img))\n",
    "\n",
    "# 📁 분할 실행\n",
    "base_path = r\"C:\\Users\\ghwns\\HJ_git\\real-time-daily-activity-recognizer\\images\"\n",
    "train_path = os.path.join(base_path, \"train\")\n",
    "val_path = os.path.join(base_path, \"val\")\n",
    "\n",
    "split_dataset(\n",
    "    base_dir=base_path,\n",
    "    train_dir=train_path,\n",
    "    val_dir=val_path,\n",
    "    split_ratio=0.8\n",
    ")"
   ]
  },
  {
   "cell_type": "code",
   "execution_count": 2,
   "id": "e4423868",
   "metadata": {},
   "outputs": [
    {
     "name": "stdout",
     "output_type": "stream",
     "text": [
      "WARNING:tensorflow:From C:\\Users\\ghwns\\anaconda3\\envs\\tf_env\\lib\\site-packages\\keras\\src\\losses.py:2976: The name tf.losses.sparse_softmax_cross_entropy is deprecated. Please use tf.compat.v1.losses.sparse_softmax_cross_entropy instead.\n",
      "\n"
     ]
    }
   ],
   "source": [
    "import os\n",
    "import numpy as np\n",
    "import matplotlib.pyplot as plt\n",
    "\n",
    "from PIL import Image\n",
    "from tensorflow.keras.preprocessing.image import ImageDataGenerator\n",
    "from tensorflow.keras.applications import MobileNetV2\n",
    "from tensorflow.keras.models import Model\n",
    "from tensorflow.keras.layers import Dense, GlobalAveragePooling2D\n",
    "from tensorflow.keras.optimizers import Adam\n",
    "from tensorflow.keras.callbacks import EarlyStopping, ReduceLROnPlateau, ModelCheckpoint"
   ]
  },
  {
   "cell_type": "code",
   "execution_count": 3,
   "id": "8449b6a2",
   "metadata": {},
   "outputs": [],
   "source": [
    "IMG_SIZE = 224\n",
    "BATCH_SIZE = 32\n",
    "EPOCHS = 30"
   ]
  },
  {
   "cell_type": "code",
   "execution_count": 4,
   "id": "c25251a8",
   "metadata": {},
   "outputs": [],
   "source": [
    "train_dir = r\"C:\\Users\\ghwns\\HJ_git\\real-time-daily-activity-recognizer\\images\\train\"\n",
    "val_dir = r\"C:\\Users\\ghwns\\HJ_git\\real-time-daily-activity-recognizer\\images\\val\""
   ]
  },
  {
   "cell_type": "code",
   "execution_count": 5,
   "id": "5cdbd005",
   "metadata": {},
   "outputs": [],
   "source": [
    "train_datagen = ImageDataGenerator(\n",
    "    rescale=1./255,\n",
    "    rotation_range=20,\n",
    "    width_shift_range=0.1,\n",
    "    height_shift_range=0.1,\n",
    "    shear_range=0.1,\n",
    "    zoom_range=0.1,\n",
    "    horizontal_flip=True\n",
    ")\n",
    "\n",
    "val_datagen = ImageDataGenerator(rescale=1./255)"
   ]
  },
  {
   "cell_type": "code",
   "execution_count": 6,
   "id": "ffb5585a",
   "metadata": {},
   "outputs": [
    {
     "name": "stdout",
     "output_type": "stream",
     "text": [
      "Found 3066 images belonging to 8 classes.\n",
      "Found 769 images belonging to 8 classes.\n"
     ]
    }
   ],
   "source": [
    "train_generator = train_datagen.flow_from_directory(\n",
    "    train_dir,\n",
    "    target_size=(IMG_SIZE, IMG_SIZE),\n",
    "    batch_size=BATCH_SIZE,\n",
    "    class_mode='categorical'\n",
    ")\n",
    "\n",
    "val_generator = val_datagen.flow_from_directory(\n",
    "    val_dir,\n",
    "    target_size=(IMG_SIZE, IMG_SIZE),\n",
    "    batch_size=BATCH_SIZE,\n",
    "    class_mode='categorical'\n",
    ")"
   ]
  },
  {
   "cell_type": "code",
   "execution_count": 7,
   "id": "916dafd4",
   "metadata": {},
   "outputs": [
    {
     "name": "stdout",
     "output_type": "stream",
     "text": [
      "WARNING:tensorflow:From C:\\Users\\ghwns\\anaconda3\\envs\\tf_env\\lib\\site-packages\\keras\\src\\backend.py:1398: The name tf.executing_eagerly_outside_functions is deprecated. Please use tf.compat.v1.executing_eagerly_outside_functions instead.\n",
      "\n",
      "WARNING:tensorflow:From C:\\Users\\ghwns\\anaconda3\\envs\\tf_env\\lib\\site-packages\\keras\\src\\layers\\normalization\\batch_normalization.py:979: The name tf.nn.fused_batch_norm is deprecated. Please use tf.compat.v1.nn.fused_batch_norm instead.\n",
      "\n"
     ]
    }
   ],
   "source": [
    "base_model = MobileNetV2(weights='imagenet', include_top=False, input_shape=(IMG_SIZE, IMG_SIZE, 3))\n",
    "x = base_model.output\n",
    "x = GlobalAveragePooling2D()(x)\n",
    "output = Dense(train_generator.num_classes, activation='softmax')(x)\n",
    "\n",
    "model = Model(inputs=base_model.input, outputs=output)"
   ]
  },
  {
   "cell_type": "code",
   "execution_count": 8,
   "id": "2148bc58",
   "metadata": {},
   "outputs": [],
   "source": [
    "model.compile(\n",
    "    optimizer=Adam(learning_rate=0.0001),\n",
    "    loss='categorical_crossentropy',\n",
    "    metrics=['accuracy']\n",
    ")"
   ]
  },
  {
   "cell_type": "code",
   "execution_count": 10,
   "id": "5297e2cb",
   "metadata": {},
   "outputs": [],
   "source": [
    "callbacks = [\n",
    "    EarlyStopping(patience=5, restore_best_weights=True),\n",
    "    ReduceLROnPlateau(patience=3, factor=0.5, verbose=1),\n",
    "    ModelCheckpoint('best_model.h5', save_best_only=True)\n",
    "]"
   ]
  },
  {
   "cell_type": "code",
   "execution_count": 11,
   "id": "b452fac2",
   "metadata": {},
   "outputs": [
    {
     "name": "stderr",
     "output_type": "stream",
     "text": [
      "C:\\Users\\ghwns\\anaconda3\\envs\\tf_env\\lib\\site-packages\\PIL\\Image.py:1043: UserWarning: Palette images with Transparency expressed in bytes should be converted to RGBA images\n",
      "  warnings.warn(\n"
     ]
    },
    {
     "name": "stdout",
     "output_type": "stream",
     "text": [
      "Epoch 1/30\n",
      "WARNING:tensorflow:From C:\\Users\\ghwns\\anaconda3\\envs\\tf_env\\lib\\site-packages\\keras\\src\\utils\\tf_utils.py:492: The name tf.ragged.RaggedTensorValue is deprecated. Please use tf.compat.v1.ragged.RaggedTensorValue instead.\n",
      "\n",
      "WARNING:tensorflow:From C:\\Users\\ghwns\\anaconda3\\envs\\tf_env\\lib\\site-packages\\keras\\src\\engine\\base_layer_utils.py:384: The name tf.executing_eagerly_outside_functions is deprecated. Please use tf.compat.v1.executing_eagerly_outside_functions instead.\n",
      "\n",
      "96/96 [==============================] - ETA: 0s - loss: 1.6262 - accuracy: 0.4077"
     ]
    },
    {
     "name": "stderr",
     "output_type": "stream",
     "text": [
      "C:\\Users\\ghwns\\anaconda3\\envs\\tf_env\\lib\\site-packages\\keras\\src\\engine\\training.py:3103: UserWarning: You are saving your model as an HDF5 file via `model.save()`. This file format is considered legacy. We recommend using instead the native Keras format, e.g. `model.save('my_model.keras')`.\n",
      "  saving_api.save_model(\n"
     ]
    },
    {
     "name": "stdout",
     "output_type": "stream",
     "text": [
      "96/96 [==============================] - 223s 2s/step - loss: 1.6262 - accuracy: 0.4077 - val_loss: 1.5644 - val_accuracy: 0.4213 - lr: 1.0000e-04\n",
      "Epoch 2/30\n",
      "96/96 [==============================] - 161s 2s/step - loss: 1.1193 - accuracy: 0.5828 - val_loss: 1.4432 - val_accuracy: 0.4668 - lr: 1.0000e-04\n",
      "Epoch 3/30\n",
      "96/96 [==============================] - 167s 2s/step - loss: 0.9574 - accuracy: 0.6435 - val_loss: 1.3060 - val_accuracy: 0.5319 - lr: 1.0000e-04\n",
      "Epoch 4/30\n",
      "96/96 [==============================] - 168s 2s/step - loss: 0.8729 - accuracy: 0.6755 - val_loss: 1.2650 - val_accuracy: 0.5345 - lr: 1.0000e-04\n",
      "Epoch 5/30\n",
      "96/96 [==============================] - 159s 2s/step - loss: 0.7900 - accuracy: 0.7100 - val_loss: 1.2552 - val_accuracy: 0.5449 - lr: 1.0000e-04\n",
      "Epoch 6/30\n",
      "96/96 [==============================] - 159s 2s/step - loss: 0.7378 - accuracy: 0.7361 - val_loss: 1.2230 - val_accuracy: 0.5475 - lr: 1.0000e-04\n",
      "Epoch 7/30\n",
      "96/96 [==============================] - 159s 2s/step - loss: 0.6886 - accuracy: 0.7505 - val_loss: 1.3027 - val_accuracy: 0.5410 - lr: 1.0000e-04\n",
      "Epoch 8/30\n",
      "96/96 [==============================] - 159s 2s/step - loss: 0.6549 - accuracy: 0.7655 - val_loss: 1.2857 - val_accuracy: 0.5540 - lr: 1.0000e-04\n",
      "Epoch 9/30\n",
      "96/96 [==============================] - ETA: 0s - loss: 0.6219 - accuracy: 0.7798\n",
      "Epoch 9: ReduceLROnPlateau reducing learning rate to 4.999999873689376e-05.\n",
      "96/96 [==============================] - 157s 2s/step - loss: 0.6219 - accuracy: 0.7798 - val_loss: 1.3950 - val_accuracy: 0.5241 - lr: 1.0000e-04\n",
      "Epoch 10/30\n",
      "96/96 [==============================] - 156s 2s/step - loss: 0.5416 - accuracy: 0.8076 - val_loss: 1.3121 - val_accuracy: 0.5540 - lr: 5.0000e-05\n",
      "Epoch 11/30\n",
      "96/96 [==============================] - 157s 2s/step - loss: 0.5145 - accuracy: 0.8219 - val_loss: 1.2402 - val_accuracy: 0.5592 - lr: 5.0000e-05\n"
     ]
    }
   ],
   "source": [
    "history = model.fit(\n",
    "    train_generator,\n",
    "    validation_data=val_generator,\n",
    "    epochs=EPOCHS,\n",
    "    callbacks=callbacks\n",
    ")"
   ]
  },
  {
   "cell_type": "code",
   "execution_count": 12,
   "id": "48631fc8",
   "metadata": {},
   "outputs": [
    {
     "data": {
      "image/png": "[encoded data removed]",
      "text/plain": [
       "<Figure size 1000x400 with 2 Axes>"
      ]
     },
     "metadata": {},
     "output_type": "display_data"
    }
   ],
   "source": [
    "plt.figure(figsize=(10, 4))\n",
    "plt.subplot(1, 2, 1)\n",
    "plt.plot(history.history['accuracy'], label='Train Acc')\n",
    "plt.plot(history.history['val_accuracy'], label='Val Acc')\n",
    "plt.legend()\n",
    "plt.title(\"Accuracy\")\n",
    "\n",
    "plt.subplot(1, 2, 2)\n",
    "plt.plot(history.history['loss'], label='Train Loss')\n",
    "plt.plot(history.history['val_loss'], label='Val Loss')\n",
    "plt.legend()\n",
    "plt.title(\"Loss\")\n",
    "\n",
    "plt.show()"
   ]
  },
  {
   "cell_type": "code",
   "execution_count": 13,
   "id": "99bb01b6",
   "metadata": {},
   "outputs": [
    {
     "name": "stdout",
     "output_type": "stream",
     "text": [
      "📊 Train Accuracy 최고: 0.8219\n",
      "📊 Val Accuracy 최고:   0.5592\n",
      "📉 Train Loss 최저:     0.5145\n",
      "📉 Val Loss 최저:       1.2230\n"
     ]
    }
   ],
   "source": [
    "train_acc = max(history.history['accuracy'])\n",
    "val_acc = max(history.history['val_accuracy'])\n",
    "\n",
    "train_loss = min(history.history['loss'])\n",
    "val_loss = min(history.history['val_loss'])\n",
    "\n",
    "print(f\"📊 Train Accuracy 최고: {train_acc:.4f}\")\n",
    "print(f\"📊 Val Accuracy 최고:   {val_acc:.4f}\")\n",
    "print(f\"📉 Train Loss 최저:     {train_loss:.4f}\")\n",
    "print(f\"📉 Val Loss 최저:       {val_loss:.4f}\")"
   ]
  }
 ],
 "metadata": {
  "kernelspec": {
   "display_name": "Python (tf_env)",
   "language": "python",
   "name": "tf_env"
  },
  "language_info": {
   "codemirror_mode": {
    "name": "ipython",
    "version": 3
   },
   "file_extension": ".py",
   "mimetype": "text/x-python",
   "name": "python",
   "nbconvert_exporter": "python",
   "pygments_lexer": "ipython3",
   "version": "3.9.21"
  }
 },
 "nbformat": 4,
 "nbformat_minor": 5
}
